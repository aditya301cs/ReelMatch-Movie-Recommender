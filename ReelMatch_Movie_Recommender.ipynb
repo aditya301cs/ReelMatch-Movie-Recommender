{
 "cells": [
  {
   "cell_type": "markdown",
   "id": "219e2700",
   "metadata": {},
   "source": [
    "### 📝 Step 1: **Import Necessary Libraries**"
   ]
  },
  {
   "cell_type": "code",
   "execution_count": null,
   "id": "d811e1f3",
   "metadata": {},
   "outputs": [],
   "source": [
    "# Importing all required libraries\n",
    "import pandas as pd\n",
    "import numpy as np\n",
    "import ast\n",
    "from sklearn.feature_extraction.text import TfidfVectorizer\n",
    "from sklearn.metrics.pairwise import cosine_similarity\n",
    "import pickle"
   ]
  },
  {
   "cell_type": "markdown",
   "id": "16fd2601",
   "metadata": {},
   "source": [
    "### 📥 Step 2: **Load the Datasets**"
   ]
  },
  {
   "cell_type": "code",
   "execution_count": null,
   "id": "fea5aac2",
   "metadata": {},
   "outputs": [],
   "source": [
    "# Load TMDB movie and credits datasets\n",
    "credits = pd.read_csv(\"tmdb_5000_credits.csv\")\n",
    "movies = pd.read_csv(\"tmdb_5000_movies.csv\")\n",
    "\n",
    "# Display first row for inspection\n",
    "movies.head(1)"
   ]
  },
  {
   "cell_type": "markdown",
   "id": "964f7771",
   "metadata": {},
   "source": [
    "### 🔗 Step 3: **Merge Datasets on Title**"
   ]
  },
  {
   "cell_type": "code",
   "execution_count": null,
   "id": "2c752871",
   "metadata": {},
   "outputs": [],
   "source": [
    "# Merge credits and movies datasets on 'title'\n",
    "movies = movies.merge(credits, on='title')\n",
    "movies.head(1)"
   ]
  },
  {
   "cell_type": "markdown",
   "id": "fcc13699",
   "metadata": {},
   "source": [
    "### 🧹 Step 4: **Select Relevant Features**"
   ]
  },
  {
   "cell_type": "code",
   "execution_count": null,
   "id": "b1faa1ac",
   "metadata": {},
   "outputs": [],
   "source": [
    "# Select only useful columns\n",
    "movies = movies[['movie_id', 'title', 'overview', 'genres', 'keywords', 'cast', 'crew']]\n",
    "movies.head(1)"
   ]
  },
  {
   "cell_type": "markdown",
   "id": "a7f99060",
   "metadata": {},
   "source": [
    "### 🔄 Step 5: **Define Helper Function to Extract Names**"
   ]
  },
  {
   "cell_type": "code",
   "execution_count": null,
   "id": "d2a18d64",
   "metadata": {},
   "outputs": [],
   "source": [
    "# Function to extract 'name' from JSON string\n",
    "def convert(obj):\n",
    "    L = []\n",
    "    for i in ast.literal_eval(obj):\n",
    "        L.append(i['name'])\n",
    "    return L"
   ]
  },
  {
   "cell_type": "markdown",
   "id": "18e0cfc4",
   "metadata": {},
   "source": [
    "### 🧬 Step 6: **Extract Genres, Keywords, Cast, Crew**"
   ]
  },
  {
   "cell_type": "code",
   "execution_count": null,
   "id": "2a5072e8",
   "metadata": {},
   "outputs": [],
   "source": [
    "# Extract relevant features from JSON strings\n",
    "movies['genres'] = movies['genres'].apply(convert)\n",
    "movies['keywords'] = movies['keywords'].apply(convert)\n",
    "\n",
    "# Take top 3 actors\n",
    "movies['cast'] = movies['cast'].apply(lambda x: [i['name'] for i in ast.literal_eval(x)[:3]])\n",
    "\n",
    "# Only extract the director's name\n",
    "movies['crew'] = movies['crew'].apply(lambda x: [i['name'] for i in ast.literal_eval(x) if i['job'] == 'Director'])\n",
    "\n",
    "# Display transformed data\n",
    "movies.head(1)"
   ]
  },
  {
   "cell_type": "markdown",
   "id": "f565ce65",
   "metadata": {},
   "source": [
    "### 🏷️ Step 7: **Create Tags Column by Combining All Textual Data**"
   ]
  },
  {
   "cell_type": "code",
   "execution_count": null,
   "id": "b375f205",
   "metadata": {},
   "outputs": [],
   "source": [
    "# Create a new 'tags' column by combining all features\n",
    "movies['tags'] = movies['genres'] + movies['keywords'] + movies['cast'] + movies['crew']\n",
    "movies['tags'] = movies['tags'].apply(lambda x: \" \".join(x))\n",
    "movies['tags'] = movies['tags'].apply(lambda x: x.lower())\n",
    "\n",
    "# Final dataframe structure\n",
    "movies = movies[['movie_id', 'title', 'overview', 'tags']]\n",
    "movies.head()"
   ]
  },
  {
   "cell_type": "markdown",
   "id": "930cca4e",
   "metadata": {},
   "source": [
    "### 📚 Step 8: **Vectorize Tags Using TF-IDF**"
   ]
  },
  {
   "cell_type": "code",
   "execution_count": null,
   "id": "0c8e2ee2",
   "metadata": {},
   "outputs": [],
   "source": [
    "# Vectorize using TF-IDF\n",
    "tfidf = TfidfVectorizer(stop_words='english')\n",
    "tfidf_matrix = tfidf.fit_transform(movies['tags'])"
   ]
  },
  {
   "cell_type": "markdown",
   "id": "c7c01896",
   "metadata": {},
   "source": [
    "### 🧠 Step 9: **Compute Cosine Similarity Matrix**"
   ]
  },
  {
   "cell_type": "code",
   "execution_count": null,
   "id": "e1b02ece",
   "metadata": {},
   "outputs": [],
   "source": [
    "# Compute similarity scores between movies\n",
    "cosine_sim = cosine_similarity(tfidf_matrix, tfidf_matrix)"
   ]
  },
  {
   "cell_type": "markdown",
   "id": "820562a6",
   "metadata": {},
   "source": [
    "### 🎯 Step 10: **Define Recommendation Function**"
   ]
  },
  {
   "cell_type": "code",
   "execution_count": null,
   "id": "ed8be3ca",
   "metadata": {},
   "outputs": [],
   "source": [
    "# Recommend top 10 similar movies based on cosine similarity\n",
    "def get_recommendations(title, cosine_sim=cosine_sim):\n",
    "    if title not in movies['title'].values:\n",
    "        return \"Movie not found in database.\"\n",
    "    idx = movies[movies['title'] == title].index[0]\n",
    "    sim_scores = list(enumerate(cosine_sim[idx]))\n",
    "    sim_scores = sorted(sim_scores, key=lambda x: x[1], reverse=True)[1:11]\n",
    "    movie_indices = [i[0] for i in sim_scores]\n",
    "    return movies['title'].iloc[movie_indices]"
   ]
  },
  {
   "cell_type": "markdown",
   "id": "bc094188",
   "metadata": {},
   "source": [
    "### 🔍 Step 11: **Test Recommendation Function**"
   ]
  },
  {
   "cell_type": "code",
   "execution_count": null,
   "id": "0b246ccf",
   "metadata": {},
   "outputs": [],
   "source": [
    "# Test the recommendation system\n",
    "print(get_recommendations('The Dark Knight Rises'))"
   ]
  },
  {
   "cell_type": "markdown",
   "id": "af67ed66",
   "metadata": {},
   "source": [
    "### 💾 Step 12: **Save Data and Similarity Matrix with Pickle**"
   ]
  },
  {
   "cell_type": "code",
   "execution_count": null,
   "id": "e45bae79",
   "metadata": {},
   "outputs": [],
   "source": [
    "# Save the model and data for reuse\n",
    "with open('movie_data.pkl', 'wb') as file:\n",
    "    pickle.dump((movies, cosine_sim), file)"
   ]
  }
 ],
 "metadata": {},
 "nbformat": 4,
 "nbformat_minor": 5
}